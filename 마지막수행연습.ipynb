{
  "nbformat": 4,
  "nbformat_minor": 0,
  "metadata": {
    "colab": {
      "provenance": [],
      "authorship_tag": "ABX9TyPoM+WD7p/0CDSmjHxnJ/H5",
      "include_colab_link": true
    },
    "kernelspec": {
      "name": "python3",
      "display_name": "Python 3"
    },
    "language_info": {
      "name": "python"
    }
  },
  "cells": [
    {
      "cell_type": "markdown",
      "metadata": {
        "id": "view-in-github",
        "colab_type": "text"
      },
      "source": [
        "<a href=\"https://colab.research.google.com/github/min816/colab/blob/main/%EB%A7%88%EC%A7%80%EB%A7%89%EC%88%98%ED%96%89%EC%97%B0%EC%8A%B5.ipynb\" target=\"_parent\"><img src=\"https://colab.research.google.com/assets/colab-badge.svg\" alt=\"Open In Colab\"/></a>"
      ]
    },
    {
      "cell_type": "code",
      "execution_count": null,
      "metadata": {
        "id": "HFOJODmHKLKT"
      },
      "outputs": [],
      "source": [
        "i = 0\n",
        "j = 0\n",
        "\n",
        "for i in range(2, 10) :\n",
        "  for j in range(1,10) :\n",
        "    print(i, \"X\", j, \"=\", i * j)\n",
        "  print(\"\")  "
      ]
    },
    {
      "cell_type": "code",
      "source": [
        "i, hap = 0, 0\n",
        "\n",
        "for i in range(1,101,1) :\n",
        "  if i % 4 == 0 :\n",
        "    continue\n",
        "\n",
        "  hap += i\n",
        "\n",
        "print(\"1~100의 합계(4의 배수 제외) : \", hap)    "
      ],
      "metadata": {
        "colab": {
          "base_uri": "https://localhost:8080/"
        },
        "id": "gtiQuVtKKmVN",
        "outputId": "664bd077-d625-486f-e3a0-a916feb31bff"
      },
      "execution_count": 3,
      "outputs": [
        {
          "output_type": "stream",
          "name": "stdout",
          "text": [
            "1~100의 합계(4의 배수 제외) :  3750\n"
          ]
        }
      ]
    },
    {
      "cell_type": "code",
      "source": [
        "import random\n",
        "count = 0\n",
        "dice1, dice2, dice3 = 0,0,0\n",
        "\n",
        "while True :\n",
        "  count += 1\n",
        "  dice1 = random.randint(1,6)\n",
        "  dice2 = random.randint(1,6)\n",
        "  dice3 = random.randint(1,6)\n",
        "\n",
        "  if (dice1 == dice2 == dice3) :\n",
        "    break\n",
        "\n",
        "print(\"3개의 주사위는 모두\", dice1, \"입니다.\")\n",
        "print(\"같은 숫자가 나오기까지\", count, \"번 던졌습니다.\")       "
      ],
      "metadata": {
        "colab": {
          "base_uri": "https://localhost:8080/"
        },
        "id": "a7Nkke-6Lbau",
        "outputId": "86d66780-b944-4690-c311-261c008a98d2"
      },
      "execution_count": 4,
      "outputs": [
        {
          "output_type": "stream",
          "name": "stdout",
          "text": [
            "3개의 주사위는 모두 4 입니다.\n",
            "같은 숫자가 나오기까지 3 번 던졌습니다.\n"
          ]
        }
      ]
    },
    {
      "cell_type": "code",
      "source": [
        "import random\n",
        "computer, user = 0,0\n",
        "\n",
        "for i in range(1,11) :\n",
        "  computer = random.randint(1, 5)\n",
        "  print(\"게임\", i, \"회:\", end='')\n",
        "  user = int(input(\"컴퓨터가 생각한 숫자는 ? \"))\n",
        "\n",
        "  if computer == user :\n",
        "    print(\"맞혔네요. 축하합니다!!\")\n",
        "    break\n",
        "  else :\n",
        "    print(\"아까워요.\", computer, \"였는데요. 다시 해보세요.ㅠ\")\n",
        "    continue\n",
        "print(\"게임을 마칩니다.\")      "
      ],
      "metadata": {
        "colab": {
          "base_uri": "https://localhost:8080/"
        },
        "id": "ySvsO9EJMHm9",
        "outputId": "bd171d14-37e6-470e-a9f2-7d7dd6a41546"
      },
      "execution_count": 5,
      "outputs": [
        {
          "output_type": "stream",
          "name": "stdout",
          "text": [
            "게임 1 회:컴퓨터가 생각한 숫자는 ? 3\n",
            "맞혔네요. 축하합니다!!\n",
            "게임을 마칩니다.\n"
          ]
        }
      ]
    }
  ]
}