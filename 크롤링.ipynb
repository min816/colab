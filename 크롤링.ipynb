{
  "nbformat": 4,
  "nbformat_minor": 0,
  "metadata": {
    "colab": {
      "provenance": [],
      "authorship_tag": "ABX9TyN+EHRJkgNRlg0PDgucoKdt",
      "include_colab_link": true
    },
    "kernelspec": {
      "name": "python3",
      "display_name": "Python 3"
    },
    "language_info": {
      "name": "python"
    }
  },
  "cells": [
    {
      "cell_type": "markdown",
      "metadata": {
        "id": "view-in-github",
        "colab_type": "text"
      },
      "source": [
        "<a href=\"https://colab.research.google.com/github/min816/colab/blob/main/%ED%81%AC%EB%A1%A4%EB%A7%81.ipynb\" target=\"_parent\"><img src=\"https://colab.research.google.com/assets/colab-badge.svg\" alt=\"Open In Colab\"/></a>"
      ]
    },
    {
      "cell_type": "code",
      "execution_count": 6,
      "metadata": {
        "colab": {
          "base_uri": "https://localhost:8080/"
        },
        "id": "SOibJd4nfrMM",
        "outputId": "47f29a3e-c82b-4d93-b622-deefdd4b9716"
      },
      "outputs": [
        {
          "output_type": "stream",
          "name": "stdout",
          "text": [
            " 1944년생 운세 내가 할 수 있는 일과 할 수 없는 일이 있다. 아쉬워 말아라. 1956년생 운세 난 그런 사람이 아니라고 하는 사람은 이미 그런 사람이다. 1968년생 운세 외부로 나가 일이 생기면 늦은 오후에 이동하는 편이 좋다. 1980년생 운세 진정한 친구를 얻는 유일한 방법은 당신이 자진해서 친구가 되어주는 것이다. 1992년생 운세 주변 사람들의 인기를 한 몸에 받을 수 있는 좋은 기회를 얻게 된다. 기운을 내도록. \n",
            " 1944년생 운세 집안 분위기를 바꿔 보라. 마음도 함께 따라 바뀌니 즐겁다. 1956년생 운세 오래된 친구를 가벼이 생각해서는 해롭다. 공기와 같은 친구 일수록 더더욱 그렇다. 1968년생 운세 당신의 인생에서 희망이 희미해질수록, 세상은 가라 하고 무덤에선 오라 하고 손짓한다. 1980년생 운세 먹고 살아가야 한다. 여기에서 창피함을 느껴서야 되겠나. 있을 때 잡아라. 1992년생 운세 예의의 모자는 재빨리 벗되, 낭비의 지갑은 천천히 열어라. 부자되는 지름길이다. \n",
            " 1944년생 운세 주위 사람과의 마찰이 예상됩니다. 괘씸한 태도를 보였던 것은 사실이지만 자신 또한 그리 이성적으로 행동하지 못했기에 후회는 남아있기 마련이지요. 친구와 싸운 것이 있었다면 하루 빨리 화해를 청해야 하겠습니다. 1956년생 운세 주변에서 거는 기대에 비해, 보잘것없는 결과가 나오니 주위에서는 실망이 스스로는 자괴감이 들게 되는 한 주입니다. 마음을 단단히 먹어야 하겠습니다. 1968년생 운세 더 좋은 조건의 제의가 들어온다면 망설이지 말고 승낙하도록 하세요. 새로운 일은 당신의 노력에 따라서 금방 익숙해질 수 있습니다. 정이나 의리 때문에 갈등할 필요는 없습니다. 공과 사는 분명히 해야 하니까요. 1980년생 운세 서두른다고 안될 일이 되는 것은 아닙니다. 헛된 수고를 들이고 싶지 않다면 시작하기 전에 잘 따져보아 당신이 해낼 수 있는 지 없는 지를 냉정하게 살펴야 할 것입니다. 1992년생 운세 사소한 일이 크게 번지는 경우가 생길 수 있습니다. 말 그대로 사소한 것이기에 조심한다고 해서 다 피해갈 수도 없을 것이기에 신중하고 대범한 태도를 보여야 하겠습니다. 화가 나는 일이 있어도 타인에게 노출하지는 않도록 하십시오. \n"
          ]
        }
      ],
      "source": [
        "#!pip install beautifulsoup4\n",
        "#!pip install requests\n",
        "import requests\n",
        "from bs4 import BeautifulSoup as bs\n",
        "page = requests.get(\"https://search.naver.com/search.naver?where=nexearch&sm=tab_etc&qvt=0&query=%EC%9B%90%EC%88%AD%EC%9D%B4%EB%9D%A0%20%EC%9A%B4%EC%84%B8\")\n",
        "soup = bs(page.text, \"html.parser\")\n",
        "news = soup.findAll('dl', {\"class\":\"lst_infor _cs_fortune_list\"})\n",
        "for n in news :\n",
        "  print(n.text)"
      ]
    }
  ]
}