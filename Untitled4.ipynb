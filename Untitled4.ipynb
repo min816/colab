{
  "nbformat": 4,
  "nbformat_minor": 0,
  "metadata": {
    "colab": {
      "provenance": [],
      "authorship_tag": "ABX9TyPNNNOn8uYQ50Edjp1BWPFX",
      "include_colab_link": true
    },
    "kernelspec": {
      "name": "python3",
      "display_name": "Python 3"
    },
    "language_info": {
      "name": "python"
    }
  },
  "cells": [
    {
      "cell_type": "markdown",
      "metadata": {
        "id": "view-in-github",
        "colab_type": "text"
      },
      "source": [
        "<a href=\"https://colab.research.google.com/github/min816/colab/blob/main/Untitled4.ipynb\" target=\"_parent\"><img src=\"https://colab.research.google.com/assets/colab-badge.svg\" alt=\"Open In Colab\"/></a>"
      ]
    },
    {
      "cell_type": "code",
      "source": [
        "def hapFunc(op, num1, num2) :\n",
        "  if op == '+' :\n",
        "    return num1 + num2\n",
        "  elif op =='-' :  \n",
        "    return num1 - num2\n",
        "  elif op == '*' :\n",
        "    return num1 * num2 \n",
        "  elif op == '/' :\n",
        "    return num1 / num2   \n",
        "\n",
        "op = input(\"계산 입력(+,-,*,/) : \")\n",
        "num1 = int(input(\"첫번째 숫자를 입력 : \"))\n",
        "num2 = int(input(\"두번째 숫자를 입력 : \"))\n",
        "print(\"## 계산기 :\", num1, op, num2, \"=\", hapFunc(op, num1, num2))"
      ],
      "metadata": {
        "colab": {
          "base_uri": "https://localhost:8080/"
        },
        "id": "MQvEAnBkmRn8",
        "outputId": "1ce2022f-e381-46af-ba72-a6d189d8679d"
      },
      "execution_count": 4,
      "outputs": [
        {
          "output_type": "stream",
          "name": "stdout",
          "text": [
            "계산 입력(+,-,*,/) : /\n",
            "첫번째 숫자를 입력 : 10\n",
            "두번째 숫자를 입력 : 20\n",
            "## 계산기 : 10 / 20 = 0.5\n"
          ]
        }
      ]
    },
    {
      "cell_type": "code",
      "execution_count": 2,
      "metadata": {
        "colab": {
          "base_uri": "https://localhost:8080/"
        },
        "id": "TGwW8fM8jjpC",
        "outputId": "087ffcf2-735a-4c28-b537-e3eba8f1dc26"
      },
      "outputs": [
        {
          "output_type": "stream",
          "name": "stdout",
          "text": [
            "100과 200의 plus() 함수 결과는 300\n"
          ]
        }
      ],
      "source": [
        "def plus(v1, v2) :\n",
        "  result = 0\n",
        "  result = v1 + v2\n",
        "  return result\n",
        "\n",
        "hap = 0\n",
        "\n",
        "hap = plus(100, 200)\n",
        "print(\"100과 200의 plus() 함수 결과는\", hap)"
      ]
    },
    {
      "cell_type": "code",
      "source": [
        "def func3() :\n",
        "  result1 = 100\n",
        "  result2 = 200\n",
        "  return result1, result2\n",
        "\n",
        "hap1, hap2 = 0, 0\n",
        "\n",
        "hap1, hap2 = func3()\n",
        "print(\"func3()에서 돌려준 값 ==>\", hap1, hap2)"
      ],
      "metadata": {
        "colab": {
          "base_uri": "https://localhost:8080/"
        },
        "id": "4S7HuyLcpr3I",
        "outputId": "2176d3f9-aa3f-4717-853a-028d875f768c"
      },
      "execution_count": 6,
      "outputs": [
        {
          "output_type": "stream",
          "name": "stdout",
          "text": [
            "func3()에서 돌려준 값 ==> 100 200\n"
          ]
        }
      ]
    }
  ]
}