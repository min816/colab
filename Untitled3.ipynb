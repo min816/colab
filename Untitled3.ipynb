{
  "nbformat": 4,
  "nbformat_minor": 0,
  "metadata": {
    "colab": {
      "provenance": [],
      "authorship_tag": "ABX9TyMvQsuStfAmWves9sFbhU9O",
      "include_colab_link": true
    },
    "kernelspec": {
      "name": "python3",
      "display_name": "Python 3"
    },
    "language_info": {
      "name": "python"
    }
  },
  "cells": [
    {
      "cell_type": "markdown",
      "metadata": {
        "id": "view-in-github",
        "colab_type": "text"
      },
      "source": [
        "<a href=\"https://colab.research.google.com/github/min816/colab/blob/main/Untitled3.ipynb\" target=\"_parent\"><img src=\"https://colab.research.google.com/assets/colab-badge.svg\" alt=\"Open In Colab\"/></a>"
      ]
    },
    {
      "cell_type": "code",
      "execution_count": 1,
      "metadata": {
        "colab": {
          "base_uri": "https://localhost:8080/"
        },
        "id": "zqpIOG8YYv_-",
        "outputId": "a468c50c-5965-4b4d-c5ee-e6c1243bc007"
      },
      "outputs": [
        {
          "output_type": "stream",
          "name": "stdout",
          "text": [
            "홍길동 선수 경기 끝났습니다.~~ 짝짝짝\n",
            "평가 점수 ==> 10\n",
            "평가 점수 ==> 9\n",
            "평가 점수 ==> 8\n",
            "평가 점수 ==> 8\n",
            "평가 점수 ==> 10\n",
            "심사위원의 평균 점수 ==>  9.0\n"
          ]
        }
      ],
      "source": [
        "score = [0,0,0,0,0]\n",
        "sum, avg = 0,0\n",
        "print(\"홍길동 선수 경기 끝났습니다.~~ 짝짝짝\")\n",
        "\n",
        "for i in range(0,5) :\n",
        "  score[i] = int(input(\"평가 점수 ==> \"))\n",
        "  sum = sum + score[i]\n",
        "avg = sum / 5\n",
        "print(\"심사위원의 평균 점수 ==> \", avg)"
      ]
    },
    {
      "cell_type": "code",
      "source": [
        "import random\n",
        "score = []\n",
        "for i in range(0,10000) :\n",
        "  rock_paper_scissors = [\"가위\", \"바위\", \"보\"]\n",
        "  comA = random.choice(rock_paper_scissors)\n",
        "  comB = random.choice(rock_paper_scissors)\n",
        "  if comA == comB :\n",
        "    score.append(\"비김\")\n",
        "  elif (comA == \"가위\" and comB == \"보\") or \\\n",
        "       (comA == \"바위\" and comB == \"가위\") or \\\n",
        "       (comA == \"보\" and comB == \"바위\") :\n",
        "       score.append(\"comA\")\n",
        "  else :\n",
        "    score.append(\"comB\")         \n",
        "print(\"10000번 중 컴퓨터 A의 승리 :\", score.count(\"comA\"))\n",
        "print(\"10000번 중 컴퓨터 B의 승리 :\", score.count(\"comB\"))\n",
        "print(\"10000번 중 비긴 경기 :\", score.count(\"비김\"))"
      ],
      "metadata": {
        "colab": {
          "base_uri": "https://localhost:8080/"
        },
        "id": "bFI797kVf0o6",
        "outputId": "0c9fa9b0-5709-48e1-b616-85c9ce07a884"
      },
      "execution_count": 8,
      "outputs": [
        {
          "output_type": "stream",
          "name": "stdout",
          "text": [
            "10000번 중 컴퓨터 A의 승리 : 3344\n",
            "10000번 중 컴퓨터 B의 승리 : 3368\n",
            "10000번 중 비긴 경기 : 3288\n"
          ]
        }
      ]
    },
    {
      "cell_type": "code",
      "source": [
        "singer = {}\n",
        "singer[\"이름\"] = input(\"이름==>\")\n",
        "singer[\"구성원수\"] = input(\"구성원수==>\")\n",
        "singer[\"데뷰\"] = input(\"데뷰==>\")\n",
        "singer[\"대표곡\"] = input(\"대표곡==>\")\n",
        "\n",
        "print(singer)"
      ],
      "metadata": {
        "colab": {
          "base_uri": "https://localhost:8080/"
        },
        "id": "kDdACi1goEcO",
        "outputId": "3809cc33-cb96-49f2-f53f-85b4c4f0d141"
      },
      "execution_count": 11,
      "outputs": [
        {
          "output_type": "stream",
          "name": "stdout",
          "text": [
            "이름==>트와이스\n",
            "구성원수==>9\n",
            "데뷰==>서바이벌 식스틴\n",
            "대표곡==>CRY FOR ME\n",
            "{'이름': '트와이스', '구성원수': '9', '데뷰': '서바이벌 식스틴', '대표곡': 'CRY FOR ME'}\n"
          ]
        }
      ]
    }
  ]
}