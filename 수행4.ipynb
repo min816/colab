{
  "nbformat": 4,
  "nbformat_minor": 0,
  "metadata": {
    "colab": {
      "provenance": [],
      "authorship_tag": "ABX9TyPiM8izY4mvFDaRKGw9sFG5",
      "include_colab_link": true
    },
    "kernelspec": {
      "name": "python3",
      "display_name": "Python 3"
    },
    "language_info": {
      "name": "python"
    }
  },
  "cells": [
    {
      "cell_type": "markdown",
      "metadata": {
        "id": "view-in-github",
        "colab_type": "text"
      },
      "source": [
        "<a href=\"https://colab.research.google.com/github/min816/colab/blob/main/%EC%88%98%ED%96%894.ipynb\" target=\"_parent\"><img src=\"https://colab.research.google.com/assets/colab-badge.svg\" alt=\"Open In Colab\"/></a>"
      ]
    },
    {
      "cell_type": "code",
      "execution_count": 10,
      "metadata": {
        "id": "f8KxHHc8bmfC",
        "colab": {
          "base_uri": "https://localhost:8080/"
        },
        "outputId": "64001b3b-ffa6-4ce4-93ae-cff50eecf738"
      },
      "outputs": [
        {
          "output_type": "stream",
          "name": "stdout",
          "text": [
            "숫자를 입력 ==> 1773\n",
            "입력한 숫자 1773는 홀수입니다.\n"
          ]
        }
      ],
      "source": [
        "num = int(input(\"숫자를 입력 ==> \"))\n",
        "\n",
        "if num % 2 == 0:\n",
        "  print(\"입력한 숫자 %d는 짝수입니다.\" %(num))\n",
        "else:\n",
        "  print(\"입력한 숫자 %d는 홀수입니다.\" %(num))"
      ]
    },
    {
      "cell_type": "code",
      "source": [
        "num = int(input(\"숫자를 입력 ==>\"))\n",
        "\n",
        "if num > 100:\n",
        "  if num < 1000:\n",
        "    print(\"100에서 1000사이다.\")\n",
        "  else:\n",
        "    print(\"1000보다 크다.\")\n",
        "else:\n",
        "  print(\"100보다 작다.\")      "
      ],
      "metadata": {
        "colab": {
          "base_uri": "https://localhost:8080/"
        },
        "id": "so1IX2AVdivA",
        "outputId": "5cca47c9-2cd1-4a0a-b2c1-d3cc52d5010a"
      },
      "execution_count": 12,
      "outputs": [
        {
          "output_type": "stream",
          "name": "stdout",
          "text": [
            "숫자를 입력 ==>150\n",
            "100에서 1000사이다.\n"
          ]
        }
      ]
    },
    {
      "cell_type": "code",
      "source": [
        "score = int(input(\"점수를 입력 ==>\"))\n",
        "\n",
        "if score >= 90:\n",
        "  print(\"A\", end='')\n",
        "else:\n",
        "  if score >= 80:\n",
        "    print(\"B\", end='')\n",
        "  else:\n",
        "    if score >= 70:\n",
        "      print(\"C\", end='')\n",
        "    else:\n",
        "      if score >= 60:\n",
        "        print(\"D\", end='')\n",
        "      else:\n",
        "        print(\"F\", end='')\n",
        "print(\"학점입니다.\")                "
      ],
      "metadata": {
        "colab": {
          "base_uri": "https://localhost:8080/"
        },
        "id": "RTXIdHgfgIzZ",
        "outputId": "36251de5-fc3c-483f-f55a-189d9ca8bb1a"
      },
      "execution_count": 13,
      "outputs": [
        {
          "output_type": "stream",
          "name": "stdout",
          "text": [
            "점수를 입력 ==>77\n",
            "C학점입니다.\n"
          ]
        }
      ]
    },
    {
      "cell_type": "code",
      "source": [
        "import random\n",
        "myHand = input(\"나의 가위/바위/보 ==>\")\n",
        "comHand = random.choice([\"가위\", \"바위\", \"보\"])\n",
        "print(\"컴퓨터의 가위/바위/보 ==>\", comHand)\n",
        "\n",
        "if myHand == comHand:\n",
        "  print(\"비겼습니다. --.--\")\n",
        "\n",
        "elif (myHand == \"가위\" and comHand == \"보\") or \\\n",
        "     (myHand == \"바위\" and comHand == \"가위\") or \\\n",
        "     (myHand == \"보\" and comHand == \"바위\"):\n",
        "    print(\"이겼습니다.^^\")\n",
        "else:\n",
        "    print(\"졌습니다. ㅠㅠ\")    "
      ],
      "metadata": {
        "colab": {
          "base_uri": "https://localhost:8080/"
        },
        "id": "iNUU4XJPiVqh",
        "outputId": "31d71377-44c6-406f-97f8-bf0bab665cd1"
      },
      "execution_count": 15,
      "outputs": [
        {
          "output_type": "stream",
          "name": "stdout",
          "text": [
            "나의 가위/바위/보 ==>가위\n",
            "컴퓨터의 가위/바위/보 ==> 가위\n",
            "비겼습니다. --.--\n"
          ]
        }
      ]
    }
  ]
}