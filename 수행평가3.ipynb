{
  "nbformat": 4,
  "nbformat_minor": 0,
  "metadata": {
    "colab": {
      "provenance": [],
      "authorship_tag": "ABX9TyMGjBwCgStsNjmh5d7sVRfz",
      "include_colab_link": true
    },
    "kernelspec": {
      "name": "python3",
      "display_name": "Python 3"
    },
    "language_info": {
      "name": "python"
    }
  },
  "cells": [
    {
      "cell_type": "markdown",
      "metadata": {
        "id": "view-in-github",
        "colab_type": "text"
      },
      "source": [
        "<a href=\"https://colab.research.google.com/github/min816/colab/blob/main/%EC%88%98%ED%96%89%ED%8F%89%EA%B0%803.ipynb\" target=\"_parent\"><img src=\"https://colab.research.google.com/assets/colab-badge.svg\" alt=\"Open In Colab\"/></a>"
      ]
    },
    {
      "cell_type": "code",
      "execution_count": 1,
      "metadata": {
        "colab": {
          "base_uri": "https://localhost:8080/"
        },
        "id": "6azkg1rlje08",
        "outputId": "accf4186-f6a9-4d9b-a4a5-d71499d01f73"
      },
      "outputs": [
        {
          "output_type": "stream",
          "name": "stdout",
          "text": [
            "원본 문자열은 ==> Python\n",
            "변환 문자열은 ==> pYTHON\n"
          ]
        }
      ],
      "source": [
        "text = \"Python\"\n",
        "change_text = text[0].lower() + text[1].upper() + text[2].upper() + text[3].upper() + text[4].upper() + text[5].upper()\n",
        "print(\"원본 문자열은 ==>\", text)\n",
        "print(\"변환 문자열은 ==>\", change_text)"
      ]
    },
    {
      "cell_type": "code",
      "source": [
        "text = \"트와이스\"\n",
        "print(\"원본 문자열 ==>\", text)\n",
        "print(\"반대 문자열 ==>\", end='')\n",
        "print(text[3], end='')\n",
        "print(text[2], end='')\n",
        "print(text[1], end='')\n",
        "print(text[0], end='')"
      ],
      "metadata": {
        "colab": {
          "base_uri": "https://localhost:8080/"
        },
        "id": "w1ghqWK1n1So",
        "outputId": "26c7377e-ae5e-432a-d8bc-baaf0d6cd21e"
      },
      "execution_count": 2,
      "outputs": [
        {
          "output_type": "stream",
          "name": "stdout",
          "text": [
            "원본 문자열 ==> 트와이스\n",
            "반대 문자열 ==>스이와트"
          ]
        }
      ]
    },
    {
      "cell_type": "code",
      "source": [
        "text1 = input(\"첫번 째 문자열 ==>\")\n",
        "text2 = input(\"두번 째 문자열 ==>\")\n",
        "\n",
        "len1 = len(text1)\n",
        "len2 = len(text2)\n",
        "\n",
        "diff = len1 - len2\n",
        "\n",
        "print(\"두 문자열의 길이 차이는\", diff, \"입니다.\")"
      ],
      "metadata": {
        "colab": {
          "base_uri": "https://localhost:8080/"
        },
        "id": "6ZHhktroxVYC",
        "outputId": "5efa7f6d-bcc0-4ecf-e6f2-77fbb8dfef08"
      },
      "execution_count": 3,
      "outputs": [
        {
          "output_type": "stream",
          "name": "stdout",
          "text": [
            "첫번 째 문자열 ==>난생처음 파이썬\n",
            "두번 째 문자열 ==>First Python\n",
            "두 문자열의 길이 차이는 -4 입니다.\n"
          ]
        }
      ]
    },
    {
      "cell_type": "code",
      "source": [
        "pound = int(input(\"파운드(lb)를 입력하세요:\"))\n",
        "kg = pound * 0.453592\n",
        "print(pound, \"파운드(lb)는\", round(kg, 5), \"킬로그램(kg)입니다.\")\n",
        "\n",
        "kg = int(input(\"킬로그램(kg)을 입력하세요 :\"))\n",
        "pound = kg * 2.204623\n",
        "print(kg, \"킬로그램(kg)은\", round(pound, 5), \"파운드(lb)입니다.\")"
      ],
      "metadata": {
        "colab": {
          "base_uri": "https://localhost:8080/"
        },
        "id": "2w3_TT131MMQ",
        "outputId": "d8eb9ecb-9dc3-41a0-925d-b263e2a51c38"
      },
      "execution_count": 4,
      "outputs": [
        {
          "output_type": "stream",
          "name": "stdout",
          "text": [
            "파운드(lb)를 입력하세요:15\n",
            "15 파운드(lb)는 6.80388 킬로그램(kg)입니다.\n",
            "킬로그램(kg)을 입력하세요 :15\n",
            "15 킬로그램(kg)은 33.06935 파운드(lb)입니다.\n"
          ]
        }
      ]
    }
  ]
}