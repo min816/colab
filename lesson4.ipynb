{
  "nbformat": 4,
  "nbformat_minor": 0,
  "metadata": {
    "colab": {
      "name": "lesson4.ipynb",
      "provenance": [],
      "authorship_tag": "ABX9TyMwjI4iM3a7a8le9682I3Dp",
      "include_colab_link": true
    },
    "kernelspec": {
      "name": "python3",
      "display_name": "Python 3"
    },
    "language_info": {
      "name": "python"
    }
  },
  "cells": [
    {
      "cell_type": "markdown",
      "metadata": {
        "id": "view-in-github",
        "colab_type": "text"
      },
      "source": [
        "<a href=\"https://colab.research.google.com/github/min816/colab/blob/main/lesson4.ipynb\" target=\"_parent\"><img src=\"https://colab.research.google.com/assets/colab-badge.svg\" alt=\"Open In Colab\"/></a>"
      ]
    },
    {
      "cell_type": "code",
      "execution_count": 3,
      "metadata": {
        "colab": {
          "base_uri": "https://localhost:8080/"
        },
        "id": "sopsPKCob1JZ",
        "outputId": "becb2038-d42c-4f57-b01a-7e496bf369a0"
      },
      "outputs": [
        {
          "output_type": "stream",
          "name": "stdout",
          "text": [
            "100 변수의 데이터 타입은 <class 'int'>\n",
            "100 변수의 데이터 타입은 <class 'float'>\n",
            "100 변수의 데이터 타입은 <class 'str'>\n",
            "100 변수의 데이터 타입은 <class 'bool'>\n"
          ]
        }
      ],
      "source": [
        "var1= 100\n",
        "var2= 3.14\n",
        "var3= \"안산공고\"\n",
        "var4= True\n",
        "print(var1, \"변수의 데이터 타입은\",type(var1))\n",
        "print(var1, \"변수의 데이터 타입은\",type(var2))\n",
        "print(var1, \"변수의 데이터 타입은\",type(var3))\n",
        "print(var1, \"변수의 데이터 타입은\",type(var4))"
      ]
    },
    {
      "cell_type": "code",
      "source": [
        "print(\"\\n줄바꿈\\n연습\")\n",
        "print(\"\\t탭키\\t연습\")\n",
        "print(\"어떤 글자를 \\\"강조\\\"하는 효과1\")\n",
        "print(\"어떤 글자를 \\'강조\\'하는 효과2\")\n",
        "print(\"\\\\\\\\ 백슬래시 2개 출력\")"
      ],
      "metadata": {
        "colab": {
          "base_uri": "https://localhost:8080/"
        },
        "id": "cHwaxYpui7w4",
        "outputId": "1cdb39bd-0db9-4541-9924-16b54f1c7fe3"
      },
      "execution_count": 5,
      "outputs": [
        {
          "output_type": "stream",
          "name": "stdout",
          "text": [
            "\n",
            "줄바꿈\n",
            "연습\n",
            "\t탭키\t연습\n",
            "어떤 글자를 \"강조\"하는 효과1\n",
            "어떤 글자를 '강조'하는 효과2\n",
            "\\\\ 백슬래시 2개 출력\n"
          ]
        }
      ]
    },
    {
      "cell_type": "code",
      "source": [
        "a= str(input(\"첫 번째 문자열 ==>\"))\n",
        "b= str(input(\"두 번째 문자열 ==>\"))\n",
        "diff= len(a)-len(b)\n",
        "print(\"두 문자열의 길이 차이는\", diff, \"입니다.\")"
      ],
      "metadata": {
        "id": "iSlvp_vOlqqI"
      },
      "execution_count": null,
      "outputs": []
    },
    {
      "cell_type": "markdown",
      "source": [
        "문자열 함수 예제 len(), upper(), lower(),count(),isupper(),islower()"
      ],
      "metadata": {
        "id": "InOKlXQSoche"
      }
    },
    {
      "cell_type": "code",
      "source": [
        "str1= input(\"문자열 입력 :\")\n",
        "print(\"입력된 문자열의 길이 :\", len(str1))\n",
        "print(\"입력된 문자열을 대문자로 변환 :\", str1.upper())\n",
        "print(\"입력된 문자열을 소문자로 변환 :\", str1.lower())\n",
        "print(\"입력된 문자열 중 ansan 몇번 나오는지 :\", str1.count(\"ansan\"))\n",
        "print(\"입력된 문자열은 대문자인가요?\", str1.isupper())\n",
        "print(\"입력된 문자열은 소문자인가요?\", str1.islower())"
      ],
      "metadata": {
        "colab": {
          "base_uri": "https://localhost:8080/"
        },
        "id": "daL8yJrOoXMP",
        "outputId": "7240c5e4-20cd-4c30-efdd-c52072d87d71"
      },
      "execution_count": 7,
      "outputs": [
        {
          "output_type": "stream",
          "name": "stdout",
          "text": [
            "문자열 입력 :Ansan Technical High School,Ansan-Si,Ansan lake\n",
            "입력된 문자열의 길이 : 47\n",
            "입력된 문자열을 대문자로 변환 : ANSAN TECHNICAL HIGH SCHOOL,ANSAN-SI,ANSAN LAKE\n",
            "입력된 문자열을 소문자로 변환 : ansan technical high school,ansan-si,ansan lake\n",
            "입력된 문자열 중 ansan 몇번 나오는지 : 0\n",
            "입력된 문자열은 대문자인가요? False\n",
            "입력된 문자열은 소문자인가요? False\n"
          ]
        }
      ]
    }
  ]
}