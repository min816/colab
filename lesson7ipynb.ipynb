{
  "nbformat": 4,
  "nbformat_minor": 0,
  "metadata": {
    "colab": {
      "provenance": [],
      "authorship_tag": "ABX9TyMY1VqFLpJPI5prdnWFlNJ2",
      "include_colab_link": true
    },
    "kernelspec": {
      "name": "python3",
      "display_name": "Python 3"
    },
    "language_info": {
      "name": "python"
    }
  },
  "cells": [
    {
      "cell_type": "markdown",
      "metadata": {
        "id": "view-in-github",
        "colab_type": "text"
      },
      "source": [
        "<a href=\"https://colab.research.google.com/github/min816/colab/blob/main/lesson7ipynb.ipynb\" target=\"_parent\"><img src=\"https://colab.research.google.com/assets/colab-badge.svg\" alt=\"Open In Colab\"/></a>"
      ]
    },
    {
      "cell_type": "code",
      "execution_count": null,
      "metadata": {
        "id": "afiq6aTeITLQ"
      },
      "outputs": [],
      "source": [
        "numList = []\n",
        "for i in range(0,4) :\n",
        "  numList.append(0)\n",
        "hap = 0\n",
        "\n",
        "for i in range(0,4) :\n",
        "  numList[i] = int(input(\"숫자 : \"))\n",
        "\n",
        "hap = numList[0] + numList[1] + numList[2] + numList[3]\n",
        "\n",
        "print(\"합계 ==>\", hap)"
      ]
    },
    {
      "cell_type": "code",
      "source": [
        "import random\n",
        "\n",
        "wiseSay = [\"나 자신에 대한 자신감을 잃으면 온 세상이 나의 적이 된다.\",\n",
        "               \"항상 맑으면 사막이 된다.비가 내리고 바람이 불어야만 비옥한 땅이 된다.\",\n",
        "               \"인생에서 가장 슬픈 세 가지, 할 수 있었는데, 해야 했는데, 해야만 했는데,\",\n",
        "               \"나태함에 대한 징벌은 실패뿐만이 아니다. 다른 이들의 성공도 있지 않은가?!\",\n",
        "               \"오늘은 당신의 남은 인생 중, 첫 번째 날이다.\"]\n",
        "today = random.randint(0, len(wiseSay)-1)\n",
        "print(\"오늘의 명언 ==>\", wiseSay[today])           "
      ],
      "metadata": {
        "colab": {
          "base_uri": "https://localhost:8080/"
        },
        "id": "n2jrypURKibA",
        "outputId": "767c30c3-e341-4357-b862-1d5734972192"
      },
      "execution_count": 6,
      "outputs": [
        {
          "output_type": "stream",
          "name": "stdout",
          "text": [
            "오늘의 명언 ==> 오늘은 당신의 남은 인생 중, 첫 번째 날이다.\n"
          ]
        }
      ]
    },
    {
      "cell_type": "code",
      "source": [
        "from google.colab import output\n",
        "import random\n",
        "usred = [1,2,3,4,5,6,7,8,9]\n",
        "boardList = [ [1,2,3],\n",
        "              [4,5,6],\n",
        "              [7,8,9]]\n",
        "def display_board() : \n",
        "  print(\" \", boardList[0][0],\"|\", boardList[0][1], \"|\", boardList[0][2])\n",
        "  print(\" ---+---+---\")\n",
        "  print(\" \", boardList[1][0],\"|\", boardList[1][1], \"|\", boardList[1][2])\n",
        "  print(\" ---+---+---\")\n",
        "  print(\" \", boardList[2][0],\"|\", boardList[2][1], \"|\", boardList[2][2])\n",
        "\n",
        "def user_select() :\n",
        "  user = int(input(\"위치를 선택 : \"))\n",
        "  usred.remove(user)\n",
        "  for x in range(3) :\n",
        "    for y in range(3) :\n",
        "      if user == boardList[x][y]  : boardList[x][y] = \"o\"\n",
        "\n",
        "def com_select() :\n",
        "  com = random.choice(usred)\n",
        "  usred.remove(com)\n",
        "  for x in range(3) :\n",
        "    for y in range(3) :\n",
        "      if com == boardList[x][y]  : boardList[x][y] = \"x\"\n",
        "\n",
        "def test(player) :\n",
        "  if boardList[0][0] == boardList[0][1] == boardList[0][2] == player or \\\n",
        "   boardList[1][0] == boardList[1][1] == boardList[1][2] == player or \\\n",
        "   boardList[2][0] == boardList[2][1] == boardList[2][2] == player or \\\n",
        "   boardList[0][0] == boardList[1][1] == boardList[2][2] == player or \\\n",
        "   boardList[0][0] == boardList[1][0] == boardList[2][0] == player or \\\n",
        "   boardList[0][1] == boardList[1][1] == boardList[2][1] == player or \\\n",
        "   boardList[0][2] == boardList[1][2] == boardList[2][2] == player or \\\n",
        "   boardList[0][2] == boardList[1][1] == boardList[2][1] == player :\n",
        "   return player\n",
        "\n",
        "while True :\n",
        "  display_board()\n",
        "  user_select()\n",
        "  if test(\"o\") == \"o\" :\n",
        "    display_board() \n",
        "    print(\"유저 승\")\n",
        "    break \n",
        "  output.clear()\n",
        "  com_select()\n",
        "  output.clear()\n",
        "  if test(\"x\") == \"x\" :\n",
        "    display_board()  \n",
        "    print(\"컴퓨터 승\")\n",
        "    break"
      ],
      "metadata": {
        "colab": {
          "base_uri": "https://localhost:8080/"
        },
        "id": "BxAxj64npVJ2",
        "outputId": "09dad025-6b93-4e89-e58d-b259f336b4fa"
      },
      "execution_count": null,
      "outputs": [
        {
          "output_type": "stream",
          "name": "stdout",
          "text": [
            "  1 | 2 | 3\n",
            " ---+---+---\n",
            "  4 | 5 | 6\n",
            " ---+---+---\n",
            "  7 | 8 | 9\n"
          ]
        }
      ]
    }
  ]
}