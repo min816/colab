{
  "nbformat": 4,
  "nbformat_minor": 0,
  "metadata": {
    "colab": {
      "name": "lesson3.ipynb",
      "provenance": [],
      "authorship_tag": "ABX9TyMhTXLIAilSIb4XRU/oNfZ+",
      "include_colab_link": true
    },
    "kernelspec": {
      "name": "python3",
      "display_name": "Python 3"
    },
    "language_info": {
      "name": "python"
    }
  },
  "cells": [
    {
      "cell_type": "markdown",
      "metadata": {
        "id": "view-in-github",
        "colab_type": "text"
      },
      "source": [
        "<a href=\"https://colab.research.google.com/github/min816/colab/blob/main/lesson3.ipynb\" target=\"_parent\"><img src=\"https://colab.research.google.com/assets/colab-badge.svg\" alt=\"Open In Colab\"/></a>"
      ]
    },
    {
      "cell_type": "markdown",
      "source": [
        "3장 연산자\n",
        "\n",
        "형성평가-파운드를 킬로그램으로 변경\n",
        "\n"
      ],
      "metadata": {
        "id": "81Ta7SBxzhCZ"
      }
    },
    {
      "cell_type": "code",
      "source": [
        "pound = float(input(\"파운드를 입력하세요 :\"))\n",
        "kg = pound * 0.453592\n",
        "print(pound, \"파운드는\", round(kg, 3), \"킬로그램입니다.\")\n",
        "kg = float(input(\"킬로그램을 입력하세요 :\"))\n",
        "pound = kg * 2.204623\n",
        "print(kg, \"킬로그램은\", round(pound,3), \"파운드입니다.\") "
      ],
      "metadata": {
        "colab": {
          "base_uri": "https://localhost:8080/"
        },
        "id": "EcHk44I10FfJ",
        "outputId": "f9bf298d-0211-4b57-dcf1-ff0130dad976"
      },
      "execution_count": 5,
      "outputs": [
        {
          "output_type": "stream",
          "name": "stdout",
          "text": [
            "파운드를 입력하세요 :15\n",
            "15.0 파운드는 6.804 킬로그램입니다.\n",
            "킬로그램을 입력하세요 :15\n",
            "15.0 킬로그램은 33.069 파운드입니다.\n"
          ]
        }
      ]
    },
    {
      "cell_type": "markdown",
      "source": [
        "형성평가 : 편의점 하루 매출 계산하기"
      ],
      "metadata": {
        "id": "Y8aMzGg94Koi"
      }
    },
    {
      "cell_type": "code",
      "source": [
        "total = 0\n",
        "total = total - (900 * 10)\n",
        "total = total - (3500 * 5)\n",
        "total = total + (1800 * 2)\n",
        "total = total + (4000 * 4)\n",
        "total = total + 1500\n",
        "total = total + (2000 * 4)\n",
        "total = total + (1800 * 5)\n",
        "\n",
        "print(\"오늘 총 매출액은\", total, \"입니다.\")"
      ],
      "metadata": {
        "colab": {
          "base_uri": "https://localhost:8080/"
        },
        "id": "72ZkJrVH4QaT",
        "outputId": "6607cae3-7160-4fbd-bf1a-b07ab180001d"
      },
      "execution_count": 7,
      "outputs": [
        {
          "output_type": "stream",
          "name": "stdout",
          "text": [
            "오늘 총 매출액은 11600 입니다.\n"
          ]
        }
      ]
    }
  ]
}