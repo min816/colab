{
  "nbformat": 4,
  "nbformat_minor": 0,
  "metadata": {
    "colab": {
      "provenance": [],
      "authorship_tag": "ABX9TyMBtB1JtsBqnH0RYoys5AyD",
      "include_colab_link": true
    },
    "kernelspec": {
      "name": "python3",
      "display_name": "Python 3"
    },
    "language_info": {
      "name": "python"
    }
  },
  "cells": [
    {
      "cell_type": "markdown",
      "metadata": {
        "id": "view-in-github",
        "colab_type": "text"
      },
      "source": [
        "<a href=\"https://colab.research.google.com/github/min816/colab/blob/main/%EC%88%98%ED%96%895.ipynb\" target=\"_parent\"><img src=\"https://colab.research.google.com/assets/colab-badge.svg\" alt=\"Open In Colab\"/></a>"
      ]
    },
    {
      "cell_type": "code",
      "execution_count": null,
      "metadata": {
        "colab": {
          "base_uri": "https://localhost:8080/"
        },
        "id": "ybb6bmA2ctPz",
        "outputId": "0ee18ccd-49fa-4b20-cff4-398292723bd1"
      },
      "outputs": [
        {
          "output_type": "stream",
          "name": "stdout",
          "text": [
            "2 X 1 = 2\n",
            "2 X 2 = 4\n",
            "2 X 3 = 6\n",
            "2 X 4 = 8\n",
            "2 X 5 = 10\n",
            "2 X 6 = 12\n",
            "2 X 7 = 14\n",
            "2 X 8 = 16\n",
            "2 X 9 = 18\n",
            "\n",
            "3 X 1 = 3\n",
            "3 X 2 = 6\n",
            "3 X 3 = 9\n",
            "3 X 4 = 12\n",
            "3 X 5 = 15\n",
            "3 X 6 = 18\n",
            "3 X 7 = 21\n",
            "3 X 8 = 24\n",
            "3 X 9 = 27\n",
            "\n",
            "4 X 1 = 4\n",
            "4 X 2 = 8\n",
            "4 X 3 = 12\n",
            "4 X 4 = 16\n",
            "4 X 5 = 20\n",
            "4 X 6 = 24\n",
            "4 X 7 = 28\n",
            "4 X 8 = 32\n",
            "4 X 9 = 36\n",
            "\n",
            "5 X 1 = 5\n",
            "5 X 2 = 10\n",
            "5 X 3 = 15\n",
            "5 X 4 = 20\n",
            "5 X 5 = 25\n",
            "5 X 6 = 30\n",
            "5 X 7 = 35\n",
            "5 X 8 = 40\n",
            "5 X 9 = 45\n",
            "\n",
            "6 X 1 = 6\n",
            "6 X 2 = 12\n",
            "6 X 3 = 18\n",
            "6 X 4 = 24\n",
            "6 X 5 = 30\n",
            "6 X 6 = 36\n",
            "6 X 7 = 42\n",
            "6 X 8 = 48\n",
            "6 X 9 = 54\n",
            "\n",
            "7 X 1 = 7\n",
            "7 X 2 = 14\n",
            "7 X 3 = 21\n",
            "7 X 4 = 28\n",
            "7 X 5 = 35\n",
            "7 X 6 = 42\n",
            "7 X 7 = 49\n",
            "7 X 8 = 56\n",
            "7 X 9 = 63\n",
            "\n",
            "8 X 1 = 8\n",
            "8 X 2 = 16\n",
            "8 X 3 = 24\n",
            "8 X 4 = 32\n",
            "8 X 5 = 40\n",
            "8 X 6 = 48\n",
            "8 X 7 = 56\n",
            "8 X 8 = 64\n",
            "8 X 9 = 72\n",
            "\n",
            "9 X 1 = 9\n",
            "9 X 2 = 18\n",
            "9 X 3 = 27\n",
            "9 X 4 = 36\n",
            "9 X 5 = 45\n",
            "9 X 6 = 54\n",
            "9 X 7 = 63\n",
            "9 X 8 = 72\n",
            "9 X 9 = 81\n",
            "\n"
          ]
        }
      ],
      "source": [
        "i = 0\n",
        "j = 0\n",
        "\n",
        "for i in range(2, 10) :\n",
        "  for j in range(1,10) :\n",
        "    print(i, \"X\", j, \"=\", i * j)\n",
        "  print(\"\")"
      ]
    },
    {
      "cell_type": "code",
      "source": [
        "i, hap = 0, 0\n",
        "\n",
        "for i in range(1,101,1) :\n",
        "  if i % 4 == 0 :\n",
        "    continue\n",
        "\n",
        "  hap += i\n",
        "\n",
        "print(\"1~100의 합계(4의 배수 제외) : \", hap)"
      ],
      "metadata": {
        "colab": {
          "base_uri": "https://localhost:8080/"
        },
        "id": "pfJUqTPpdyy4",
        "outputId": "f77e835e-0ad8-412a-e56f-6d4cc8972e2f"
      },
      "execution_count": null,
      "outputs": [
        {
          "output_type": "stream",
          "name": "stdout",
          "text": [
            "1~100의 합계(4의 배수 제외) :  3750\n"
          ]
        }
      ]
    },
    {
      "cell_type": "code",
      "source": [
        "import random\n",
        "count = 0\n",
        "dice1, dice2, dice3 = 0,0,0\n",
        "\n",
        "while True :\n",
        "  count += 1\n",
        "  dice1 = random.randint(1,6)\n",
        "  dice2 = random.randint(1,6)\n",
        "  dice3 = random.randint(1,6)\n",
        "\n",
        "  if (dice1 == dice2 == dice3) :\n",
        "    break\n",
        "\n",
        "print(\"3개의 주사위는 모두\", dice1, \"입니다.\")\n",
        "print(\"같은 숫자가 나오기까지\", count, \"번 던졌습니다.\")"
      ],
      "metadata": {
        "colab": {
          "base_uri": "https://localhost:8080/"
        },
        "id": "ssfo2Bysd38I",
        "outputId": "94f8f6a3-6d37-45cb-88cb-0f781eadb709"
      },
      "execution_count": null,
      "outputs": [
        {
          "output_type": "stream",
          "name": "stdout",
          "text": [
            "3개의 주사위는 모두 6 입니다.\n",
            "같은 숫자가 나오기까지 11 번 던졌습니다.\n"
          ]
        }
      ]
    },
    {
      "cell_type": "code",
      "source": [
        "import random\n",
        "computer, user = 0,0\n",
        "\n",
        "for i in range(1,11) :\n",
        "  computer = random.randint(1, 5)\n",
        "  print(\"게임\", i, \"회:\", end='')\n",
        "  user = int(input(\"컴퓨터가 생각한 숫자는 ? \"))\n",
        "\n",
        "  if computer == user :\n",
        "    print(\"맞혔네요. 축하합니다!!\")\n",
        "    break\n",
        "  else :\n",
        "    print(\"아까워요.\", computer, \"였는데요. 다시 해보세요.ㅠ\")\n",
        "    continue\n",
        "print(\"게임을 마칩니다.\")"
      ],
      "metadata": {
        "colab": {
          "base_uri": "https://localhost:8080/"
        },
        "id": "iZGwQT4Rd7YX",
        "outputId": "558f0853-e2ea-410c-eef9-ead5a73f9c07"
      },
      "execution_count": null,
      "outputs": [
        {
          "metadata": {
            "tags": null
          },
          "name": "stdout",
          "output_type": "stream",
          "text": [
            "게임 1 회:아까워요. 4 였는데요. 다시 해보세요.ㅠ\n",
            "게임 2 회:"
          ]
        }
      ]
    }
  ]
}