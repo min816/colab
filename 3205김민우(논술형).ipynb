{
  "nbformat": 4,
  "nbformat_minor": 0,
  "metadata": {
    "colab": {
      "name": "3205김민우(논술형).ipynb",
      "provenance": [],
      "authorship_tag": "ABX9TyOeDeTAfcb1q/L6JUfr+cDM",
      "include_colab_link": true
    },
    "kernelspec": {
      "name": "python3",
      "display_name": "Python 3"
    },
    "language_info": {
      "name": "python"
    }
  },
  "cells": [
    {
      "cell_type": "markdown",
      "metadata": {
        "id": "view-in-github",
        "colab_type": "text"
      },
      "source": [
        "<a href=\"https://colab.research.google.com/github/min816/colab/blob/main/3205%EA%B9%80%EB%AF%BC%EC%9A%B0(%EB%85%BC%EC%88%A0%ED%98%95).ipynb\" target=\"_parent\"><img src=\"https://colab.research.google.com/assets/colab-badge.svg\" alt=\"Open In Colab\"/></a>"
      ]
    },
    {
      "cell_type": "markdown",
      "source": [
        "컴퓨터과 3학년 2반 5번 김민우"
      ],
      "metadata": {
        "id": "8wrtuhogEpps"
      }
    },
    {
      "cell_type": "code",
      "execution_count": 4,
      "metadata": {
        "colab": {
          "base_uri": "https://localhost:8080/"
        },
        "id": "oHAwdPfdElFp",
        "outputId": "c4d13cea-f16d-409e-c8df-47221bf95374"
      },
      "outputs": [
        {
          "output_type": "stream",
          "name": "stdout",
          "text": [
            "첫번째 숫자 입력 : 10.2\n",
            "두번째 숫자 입력 : 20\n",
            "10.2 + 20.0 = 30.2\n",
            "10.2 - 20.0 = -9.8\n",
            "10.2 x 20.0 = 204.0\n",
            "10.2 / 20.0 = 0.51\n",
            "10.2 // 20.0 = 0.0\n",
            "10.2 % 20.0 = 10.2\n",
            "10.2 ** 20.0 = 1.4859473959783524e+20\n"
          ]
        }
      ],
      "source": [
        "num1 = float(input(\"첫번째 숫자 입력 : \"))\n",
        "num2 = float(input(\"두번째 숫자 입력 : \"))\n",
        "result1 = num1 + num2\n",
        "result2 = num1 - num2\n",
        "result3 = num1 * num2\n",
        "result4 = num1 / num2\n",
        "result5 = num1 // num2\n",
        "result6 = num1 % num2\n",
        "result7 = num1 ** num2\n",
        "print(num1, \"+\", num2, \"=\", result1)\n",
        "print(num1, \"-\", num2, \"=\", result2)\n",
        "print(num1, \"x\", num2, \"=\", result3)\n",
        "print(num1, \"/\", num2, \"=\", result4)\n",
        "print(num1, \"//\", num2, \"=\", result5)\n",
        "print(num1, \"%\", num2, \"=\", result6)\n",
        "print(num1, \"**\", num2, \"=\", result7)"
      ]
    }
  ]
}